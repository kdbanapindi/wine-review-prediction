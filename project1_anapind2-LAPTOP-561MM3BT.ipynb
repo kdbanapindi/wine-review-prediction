{
 "cells": [
  {
   "cell_type": "markdown",
   "metadata": {},
   "source": [
    "Introduction:\n"
   ]
  },
  {
   "cell_type": "code",
   "execution_count": 1,
   "metadata": {},
   "outputs": [],
   "source": [
    "import os\n",
    "import pandas as pd\n",
    "from sklearn.model_selection import train_test_split\n"
   ]
  },
  {
   "cell_type": "code",
   "execution_count": 2,
   "metadata": {},
   "outputs": [],
   "source": [
    "#os.chdir('C:/Users/Krishna/OneDrive/Krishna/Coursework/STAT542/Ind_project/wine-reviews') #desktop\n",
    "\n",
    "os.chdir('C:/Users/krish/OneDrive/Krishna/Coursework/STAT542/Ind_project/wine-reviews') #laptop\n"
   ]
  },
  {
   "cell_type": "code",
   "execution_count": 3,
   "metadata": {},
   "outputs": [],
   "source": [
    "#parsing the input data\n",
    "inp_data=pd.read_csv('inp_data.csv')\n"
   ]
  },
  {
   "cell_type": "code",
   "execution_count": 4,
   "metadata": {},
   "outputs": [],
   "source": [
    "proc_data=inp_data.drop_duplicates(subset='description', keep=\"first\")\n",
    "proc_data=proc_data.dropna(subset=['price','description','points'])\n",
    "proc_data=proc_data.reset_index(drop=True)\n",
    "\n",
    "#transforming the description to a vector so that it can be applied into classification"
   ]
  },
  {
   "cell_type": "markdown",
   "metadata": {},
   "source": [
    "To transform the review sentence to a vector, I will be using the word2vec package with the pre-trained GLoVE features"
   ]
  },
  {
   "cell_type": "code",
   "execution_count": null,
   "metadata": {},
   "outputs": [],
   "source": [
    "#os.chdir('C:/Users/Krishna/Desktop/ind_project/glove.6B') #desktop\n",
    "os.chdir('C:/Users/krish/Desktop/ind_proj_542/glove.6B')\n",
    "from gensim.scripts.glove2word2vec import glove2word2vec \n",
    "glove_input_file = 'glove.6B.100d.txt'\n",
    "word2vec_output_file = 'glove.6B.100d.txt.word2vec'\n",
    "glove2word2vec(glove_input_file, word2vec_output_file)\n",
    "\n",
    "from gensim.models import KeyedVectors\n",
    "# load the Stanford GloVe model\n",
    "filename = 'glove.6B.100d.txt.word2vec'\n",
    "model = KeyedVectors.load_word2vec_format(filename, binary=False)\n"
   ]
  },
  {
   "cell_type": "code",
   "execution_count": 25,
   "metadata": {},
   "outputs": [],
   "source": [
    "import re\n",
    "import time\n",
    "import numpy as np\n",
    "X=proc_data['description']\n",
    "\n",
    "result_array=[]\n",
    "\n",
    "t1=time.time()\n",
    "for i in range(1,len(X)):\n",
    "    \n",
    "    x_strip=re.sub(r'[^\\w\\s]','',X[i]) #strip the punctuation so that every word can fit into \n",
    "    \n",
    "    list_token=x_strip.split()\n",
    "    token_vec=np.zeros(100)\n",
    "\n",
    "    for j in range(1,len(list_token)):\n",
    "        \n",
    "        if list_token[j] in model.vocab:\n",
    "            \n",
    "            token_vec=token_vec+model.get_vector(list_token[j])\n",
    "            \n",
    "        else:\n",
    "            \n",
    "            token_vec=token_vec\n",
    "        \n",
    "    token_vec=(token_vec.reshape(-1,1))/len(list_token)\n",
    "    \n",
    "    token_vec=token_vec.squeeze()\n",
    "    \n",
    "    result_array.append(token_vec)\n",
    "     \n",
    "t2=time.time()\n",
    "\n",
    "result_df=pd.DataFrame(result_array)    \n",
    "\n",
    "result_df.to_csv('word2vec.csv')   \n",
    "\n",
    "total_time=t2-t1\n",
    "\n"
   ]
  },
  {
   "cell_type": "code",
   "execution_count": 26,
   "metadata": {},
   "outputs": [],
   "source": [
    "col_names=['desc'+str(id) for id in range(0,100)]\n",
    "\n",
    "len(col_names)\n",
    "result_df.columns=col_names\n"
   ]
  },
  {
   "cell_type": "code",
   "execution_count": 27,
   "metadata": {},
   "outputs": [
    {
     "data": {
      "text/html": [
       "<div>\n",
       "<style scoped>\n",
       "    .dataframe tbody tr th:only-of-type {\n",
       "        vertical-align: middle;\n",
       "    }\n",
       "\n",
       "    .dataframe tbody tr th {\n",
       "        vertical-align: top;\n",
       "    }\n",
       "\n",
       "    .dataframe thead th {\n",
       "        text-align: right;\n",
       "    }\n",
       "</style>\n",
       "<table border=\"1\" class=\"dataframe\">\n",
       "  <thead>\n",
       "    <tr style=\"text-align: right;\">\n",
       "      <th></th>\n",
       "      <th>desc0</th>\n",
       "      <th>desc1</th>\n",
       "      <th>desc2</th>\n",
       "      <th>desc3</th>\n",
       "      <th>desc4</th>\n",
       "      <th>desc5</th>\n",
       "      <th>desc6</th>\n",
       "      <th>desc7</th>\n",
       "      <th>desc8</th>\n",
       "      <th>desc9</th>\n",
       "      <th>...</th>\n",
       "      <th>desc90</th>\n",
       "      <th>desc91</th>\n",
       "      <th>desc92</th>\n",
       "      <th>desc93</th>\n",
       "      <th>desc94</th>\n",
       "      <th>desc95</th>\n",
       "      <th>desc96</th>\n",
       "      <th>desc97</th>\n",
       "      <th>desc98</th>\n",
       "      <th>desc99</th>\n",
       "    </tr>\n",
       "  </thead>\n",
       "  <tbody>\n",
       "    <tr>\n",
       "      <th>0</th>\n",
       "      <td>-0.362887</td>\n",
       "      <td>0.118834</td>\n",
       "      <td>0.121537</td>\n",
       "      <td>-0.224149</td>\n",
       "      <td>0.205286</td>\n",
       "      <td>0.193360</td>\n",
       "      <td>0.084521</td>\n",
       "      <td>0.092894</td>\n",
       "      <td>-0.161100</td>\n",
       "      <td>0.094909</td>\n",
       "      <td>...</td>\n",
       "      <td>-0.046470</td>\n",
       "      <td>-0.099519</td>\n",
       "      <td>-0.548903</td>\n",
       "      <td>0.059477</td>\n",
       "      <td>-0.452476</td>\n",
       "      <td>-0.154325</td>\n",
       "      <td>-0.354054</td>\n",
       "      <td>-0.389441</td>\n",
       "      <td>0.353290</td>\n",
       "      <td>0.382224</td>\n",
       "    </tr>\n",
       "    <tr>\n",
       "      <th>1</th>\n",
       "      <td>-0.253057</td>\n",
       "      <td>0.151647</td>\n",
       "      <td>0.153212</td>\n",
       "      <td>-0.168652</td>\n",
       "      <td>0.127654</td>\n",
       "      <td>0.203803</td>\n",
       "      <td>0.030083</td>\n",
       "      <td>0.180260</td>\n",
       "      <td>-0.099923</td>\n",
       "      <td>0.082560</td>\n",
       "      <td>...</td>\n",
       "      <td>0.010657</td>\n",
       "      <td>-0.080923</td>\n",
       "      <td>-0.483043</td>\n",
       "      <td>0.008327</td>\n",
       "      <td>-0.387595</td>\n",
       "      <td>-0.189706</td>\n",
       "      <td>-0.237476</td>\n",
       "      <td>-0.293652</td>\n",
       "      <td>0.324201</td>\n",
       "      <td>0.226057</td>\n",
       "    </tr>\n",
       "    <tr>\n",
       "      <th>2</th>\n",
       "      <td>-0.210210</td>\n",
       "      <td>0.289732</td>\n",
       "      <td>0.378851</td>\n",
       "      <td>-0.190696</td>\n",
       "      <td>0.031599</td>\n",
       "      <td>0.230219</td>\n",
       "      <td>-0.001175</td>\n",
       "      <td>0.165531</td>\n",
       "      <td>-0.220034</td>\n",
       "      <td>0.097913</td>\n",
       "      <td>...</td>\n",
       "      <td>0.031133</td>\n",
       "      <td>-0.074001</td>\n",
       "      <td>-0.231279</td>\n",
       "      <td>0.042580</td>\n",
       "      <td>-0.398206</td>\n",
       "      <td>-0.127425</td>\n",
       "      <td>-0.351018</td>\n",
       "      <td>-0.313840</td>\n",
       "      <td>0.392551</td>\n",
       "      <td>0.319700</td>\n",
       "    </tr>\n",
       "    <tr>\n",
       "      <th>3</th>\n",
       "      <td>-0.275772</td>\n",
       "      <td>0.251431</td>\n",
       "      <td>0.174424</td>\n",
       "      <td>-0.204858</td>\n",
       "      <td>0.095742</td>\n",
       "      <td>0.165586</td>\n",
       "      <td>0.056073</td>\n",
       "      <td>0.095629</td>\n",
       "      <td>-0.186938</td>\n",
       "      <td>0.043971</td>\n",
       "      <td>...</td>\n",
       "      <td>-0.045437</td>\n",
       "      <td>-0.058307</td>\n",
       "      <td>-0.399959</td>\n",
       "      <td>0.040815</td>\n",
       "      <td>-0.325528</td>\n",
       "      <td>0.003764</td>\n",
       "      <td>-0.403655</td>\n",
       "      <td>-0.379357</td>\n",
       "      <td>0.385304</td>\n",
       "      <td>0.280184</td>\n",
       "    </tr>\n",
       "    <tr>\n",
       "      <th>4</th>\n",
       "      <td>-0.371475</td>\n",
       "      <td>0.230490</td>\n",
       "      <td>0.067625</td>\n",
       "      <td>-0.190724</td>\n",
       "      <td>0.142736</td>\n",
       "      <td>0.176915</td>\n",
       "      <td>0.018682</td>\n",
       "      <td>0.119093</td>\n",
       "      <td>-0.221796</td>\n",
       "      <td>0.061063</td>\n",
       "      <td>...</td>\n",
       "      <td>0.004816</td>\n",
       "      <td>-0.124494</td>\n",
       "      <td>-0.476763</td>\n",
       "      <td>0.031008</td>\n",
       "      <td>-0.407745</td>\n",
       "      <td>-0.055311</td>\n",
       "      <td>-0.472458</td>\n",
       "      <td>-0.362337</td>\n",
       "      <td>0.380859</td>\n",
       "      <td>0.294100</td>\n",
       "    </tr>\n",
       "  </tbody>\n",
       "</table>\n",
       "<p>5 rows × 100 columns</p>\n",
       "</div>"
      ],
      "text/plain": [
       "      desc0     desc1     desc2     desc3     desc4     desc5     desc6  \\\n",
       "0 -0.362887  0.118834  0.121537 -0.224149  0.205286  0.193360  0.084521   \n",
       "1 -0.253057  0.151647  0.153212 -0.168652  0.127654  0.203803  0.030083   \n",
       "2 -0.210210  0.289732  0.378851 -0.190696  0.031599  0.230219 -0.001175   \n",
       "3 -0.275772  0.251431  0.174424 -0.204858  0.095742  0.165586  0.056073   \n",
       "4 -0.371475  0.230490  0.067625 -0.190724  0.142736  0.176915  0.018682   \n",
       "\n",
       "      desc7     desc8     desc9  ...    desc90    desc91    desc92    desc93  \\\n",
       "0  0.092894 -0.161100  0.094909  ... -0.046470 -0.099519 -0.548903  0.059477   \n",
       "1  0.180260 -0.099923  0.082560  ...  0.010657 -0.080923 -0.483043  0.008327   \n",
       "2  0.165531 -0.220034  0.097913  ...  0.031133 -0.074001 -0.231279  0.042580   \n",
       "3  0.095629 -0.186938  0.043971  ... -0.045437 -0.058307 -0.399959  0.040815   \n",
       "4  0.119093 -0.221796  0.061063  ...  0.004816 -0.124494 -0.476763  0.031008   \n",
       "\n",
       "     desc94    desc95    desc96    desc97    desc98    desc99  \n",
       "0 -0.452476 -0.154325 -0.354054 -0.389441  0.353290  0.382224  \n",
       "1 -0.387595 -0.189706 -0.237476 -0.293652  0.324201  0.226057  \n",
       "2 -0.398206 -0.127425 -0.351018 -0.313840  0.392551  0.319700  \n",
       "3 -0.325528  0.003764 -0.403655 -0.379357  0.385304  0.280184  \n",
       "4 -0.407745 -0.055311 -0.472458 -0.362337  0.380859  0.294100  \n",
       "\n",
       "[5 rows x 100 columns]"
      ]
     },
     "execution_count": 27,
     "metadata": {},
     "output_type": "execute_result"
    }
   ],
   "source": [
    "result_df.head()"
   ]
  },
  {
   "cell_type": "markdown",
   "metadata": {},
   "source": [
    "Intuitively, most influential variables seem to be the country of origin, review given by a taster, price, name of the taster and the variety of the wine. Performing some exploratory data analysis to check if these variables actually have an effect.\n",
    "\n",
    "Dropping the columns that we're not interested in:"
   ]
  },
  {
   "cell_type": "code",
   "execution_count": 28,
   "metadata": {},
   "outputs": [],
   "source": [
    "proc_data_red=proc_data.drop(['designation', 'description','points',  'province',\n",
    "       'region_1', 'region_2', 'taster_twitter_handle', 'title',\n",
    "        'winery'], axis=1)"
   ]
  },
  {
   "cell_type": "code",
   "execution_count": 29,
   "metadata": {},
   "outputs": [],
   "source": [
    "features = pd.get_dummies(proc_data_red)\n"
   ]
  },
  {
   "cell_type": "code",
   "execution_count": 30,
   "metadata": {},
   "outputs": [],
   "source": [
    "final_feat=pd.concat([features,result_df], axis=1)"
   ]
  },
  {
   "cell_type": "code",
   "execution_count": 31,
   "metadata": {},
   "outputs": [],
   "source": [
    "final_feat=final_feat.fillna(0)"
   ]
  },
  {
   "cell_type": "code",
   "execution_count": 32,
   "metadata": {},
   "outputs": [],
   "source": [
    "y=proc_data['points']\n"
   ]
  },
  {
   "cell_type": "code",
   "execution_count": 84,
   "metadata": {},
   "outputs": [],
   "source": [
    "from sklearn.model_selection import train_test_split,GridSearchCV\n",
    "from sklearn.linear_model import Ridge, LinearRegression\n",
    "#from sklearn.svm import SVR\n",
    "#from sklearn.ensemble import RandomForestRegressor\n",
    "#import xgboost as xgb \n",
    "import catboost as ctb\n",
    "\n",
    "\n",
    "\n",
    "X_train, X_test, y_train, y_test = train_test_split(final_feat, y, test_size=0.1, random_state=1)\n"
   ]
  },
  {
   "cell_type": "code",
   "execution_count": 102,
   "metadata": {},
   "outputs": [
    {
     "data": {
      "text/plain": [
       "LinearRegression(copy_X=True, fit_intercept=True, n_jobs=None, normalize=False)"
      ]
     },
     "execution_count": 102,
     "metadata": {},
     "output_type": "execute_result"
    }
   ],
   "source": [
    "#model=Ridge(alpha=0.1)\n",
    "#model = SVR(gamma='scale', C=1.0, epsilon=0.2)\n",
    "model=LinearRegression()\n",
    "#model = RandomForestRegressor()\n",
    "#model=xgb.XGBRegressor(objective ='reg:linear', colsample_bytree = 0.3, learning_rate = 0.1,\n",
    "                #max_depth = 5, alpha = 10, n_estimators = 100)\n",
    "    \n",
    "#model=ctb.CatBoostRegressor(iterations=500, learning_rate=0.1,depth=10, verbose=False)\n",
    "\n",
    "model.fit(X_train,y_train)\n"
   ]
  },
  {
   "cell_type": "code",
   "execution_count": 106,
   "metadata": {},
   "outputs": [
    {
     "name": "stderr",
     "output_type": "stream",
     "text": [
      "C:\\Users\\Krishna\\Anaconda3\\lib\\site-packages\\sklearn\\model_selection\\_split.py:1978: FutureWarning: The default value of cv will change from 3 to 5 in version 0.22. Specify it explicitly to silence this warning.\n",
      "  warnings.warn(CV_WARNING, FutureWarning)\n"
     ]
    },
    {
     "data": {
      "text/plain": [
       "GridSearchCV(cv='warn', error_score='raise-deprecating',\n",
       "             estimator=Ridge(alpha=1.0, copy_X=True, fit_intercept=True,\n",
       "                             max_iter=None, normalize=False, random_state=None,\n",
       "                             solver='auto', tol=0.001),\n",
       "             iid='warn', n_jobs=None,\n",
       "             param_grid={'alpha': array([1.e+00, 1.e-01, 1.e-02, 1.e-03, 1.e-04, 0.e+00])},\n",
       "             pre_dispatch='2*n_jobs', refit=True, return_train_score=False,\n",
       "             scoring=None, verbose=0)"
      ]
     },
     "execution_count": 106,
     "metadata": {},
     "output_type": "execute_result"
    }
   ],
   "source": [
    "alphas=np.array([1,0.1,0.01,0.001,0.0001,0])\n",
    "\n",
    "model=Ridge()\n",
    "\n",
    "grid = GridSearchCV(estimator=model, param_grid=dict(alpha=alphas))\n",
    "\n",
    "grid.fit(X_train,y_train)"
   ]
  },
  {
   "cell_type": "code",
   "execution_count": 103,
   "metadata": {},
   "outputs": [],
   "source": [
    "y_pred=model.predict(X_test)"
   ]
  },
  {
   "cell_type": "code",
   "execution_count": 104,
   "metadata": {
    "scrolled": true
   },
   "outputs": [
    {
     "data": {
      "text/plain": [
       "2.303547353467835"
      ]
     },
     "execution_count": 104,
     "metadata": {},
     "output_type": "execute_result"
    }
   ],
   "source": [
    "mse=sum((np.array(y_test).astype(float)-y_pred)**2)/(len(y_test))\n",
    "mse**0.5"
   ]
  },
  {
   "cell_type": "code",
   "execution_count": 105,
   "metadata": {},
   "outputs": [
    {
     "data": {
      "text/plain": [
       "<seaborn.axisgrid.JointGrid at 0x28d25aff0b8>"
      ]
     },
     "execution_count": 105,
     "metadata": {},
     "output_type": "execute_result"
    },
    {
     "data": {
      "image/png": "[encoded data removed]",
      "text/plain": [
       "<Figure size 432x432 with 3 Axes>"
      ]
     },
     "metadata": {
      "needs_background": "light"
     },
     "output_type": "display_data"
    }
   ],
   "source": [
    "import matplotlib.pyplot as plt\n",
    "import seaborn as sns\n",
    "\n",
    "sns.jointplot(y_pred,y_test, kind=\"hex\")\n",
    "\n",
    "#plt.plot(y_pred,y_test,'ro')\n",
    "#plt.show()"
   ]
  },
  {
   "cell_type": "markdown",
   "metadata": {},
   "source": [
    "Part2) To give a rating"
   ]
  }
 ],
 "metadata": {
  "kernelspec": {
   "display_name": "Python 3",
   "language": "python",
   "name": "python3"
  },
  "language_info": {
   "codemirror_mode": {
    "name": "ipython",
    "version": 3
   },
   "file_extension": ".py",
   "mimetype": "text/x-python",
   "name": "python",
   "nbconvert_exporter": "python",
   "pygments_lexer": "ipython3",
   "version": "3.7.3"
  }
 },
 "nbformat": 4,
 "nbformat_minor": 2
}
